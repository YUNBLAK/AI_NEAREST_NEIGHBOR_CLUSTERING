{
 "cells": [
  {
   "cell_type": "code",
   "execution_count": 4,
   "metadata": {},
   "outputs": [
    {
     "name": "stdout",
     "output_type": "stream",
     "text": [
      "1 [[78, 658]]\n",
      "2 [[335, 399], [344, 411], [353, 427], [387, 434], [398, 425], [399, 430], [406, 437]]\n",
      "3 [[459, 590], [465, 675], [477, 668], [480, 606], [485, 594]]\n",
      "4 [[586, 638], [588, 625], [604, 619], [607, 627], [609, 620]]\n",
      "5 [[775, 609]]\n",
      "6 [[797, 428], [831, 432], [875, 396]]\n"
     ]
    }
   ],
   "source": [
    "import math\n",
    "import matplotlib.pyplot as plt\n",
    "\n",
    "def euclidean(x1, x2):\n",
    "    length = 0\n",
    "    for i in range(len(x1)):\n",
    "        length += (x1[i] - x2[i]) ** 2\n",
    "    return length ** 0.5\n",
    "\n",
    "def clustering(iterable, temparr, distance):\n",
    "    prev = None\n",
    "    group = []\n",
    "    for item in iterable:\n",
    "        if not prev or euclidean(item, prev) <= distance:\n",
    "            temparr.append(group)\n",
    "            group.append(item)\n",
    "        else:\n",
    "            yield group\n",
    "            group = [item]\n",
    "            temparr.append(group)\n",
    "        prev = item\n",
    "    if group:\n",
    "        yield group\n",
    "        \n",
    "def main():\n",
    "    arr = [[465, 675], [477, 668], [78, 658], [586, 638], [607, 627], [588, 625], \n",
    "            [609, 620], [604, 619], [775, 609], [480, 606], [485, 594], [459, 590], \n",
    "            [387, 434], [831, 432], [399, 430], [797, 428], [353, 427], [398, 425], \n",
    "            [406, 437], [335, 399], [344, 411], [875, 396]]\n",
    "    \n",
    "    #arr.append([530, 650])\n",
    "    arr.sort()\n",
    "    clustered_arr = []\n",
    "    temparr = []\n",
    "    distance = 88\n",
    "    \n",
    "    dict(enumerate(clustering(arr, temparr, distance)))\n",
    "    for i in range(0, len(temparr)):\n",
    "        if temparr[i] not in clustered_arr:\n",
    "            clustered_arr.append(temparr[i])\n",
    "    for i in range(0, len(clustered_arr)):\n",
    "        print(i+1, clustered_arr[i])\n",
    "\n",
    "if __name__ == \"__main__\":\n",
    "    main()"
   ]
  },
  {
   "cell_type": "code",
   "execution_count": null,
   "metadata": {},
   "outputs": [],
   "source": []
  }
 ],
 "metadata": {
  "kernelspec": {
   "display_name": "Python 3",
   "language": "python",
   "name": "python3"
  },
  "language_info": {
   "codemirror_mode": {
    "name": "ipython",
    "version": 3
   },
   "file_extension": ".py",
   "mimetype": "text/x-python",
   "name": "python",
   "nbconvert_exporter": "python",
   "pygments_lexer": "ipython3",
   "version": "3.8.10"
  }
 },
 "nbformat": 4,
 "nbformat_minor": 4
}
